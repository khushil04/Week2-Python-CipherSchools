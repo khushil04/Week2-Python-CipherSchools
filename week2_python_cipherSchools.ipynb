{
  "nbformat": 4,
  "nbformat_minor": 0,
  "metadata": {
    "colab": {
      "provenance": [],
      "authorship_tag": "ABX9TyNUAmu4m2WTeA/KCMlDAp1o",
      "include_colab_link": true
    },
    "kernelspec": {
      "name": "python3",
      "display_name": "Python 3"
    },
    "language_info": {
      "name": "python"
    }
  },
  "cells": [
    {
      "cell_type": "markdown",
      "metadata": {
        "id": "view-in-github",
        "colab_type": "text"
      },
      "source": [
        "<a href=\"https://colab.research.google.com/github/khushil04/Week2-Python-CipherSchools/blob/main/week2_python_cipherSchools.ipynb\" target=\"_parent\"><img src=\"https://colab.research.google.com/assets/colab-badge.svg\" alt=\"Open In Colab\"/></a>"
      ]
    },
    {
      "cell_type": "code",
      "execution_count": null,
      "metadata": {
        "id": "8WSH6-9JiQGp"
      },
      "outputs": [],
      "source": [
        "#Lec 60:\n",
        "name = input(\"please enter your name\")\n",
        "tem_var=\"\"\n",
        "i=0\n",
        "while i < len(name):\n",
        "  if name [i] not in temp_var:\n",
        "    tem_var+=name[i]\n",
        "    print(f\"{name[i]}:{name.count(name[i])}\")\n",
        "  i+=1"
      ]
    },
    {
      "cell_type": "code",
      "source": [
        "#Lec 62 for loop:\n",
        "for i in range(10):\n",
        "  print(f\"hello world:{i}\")"
      ],
      "metadata": {
        "id": "iMcBu1lYkMyg"
      },
      "execution_count": null,
      "outputs": []
    },
    {
      "cell_type": "code",
      "source": [
        "#Lec 63 sum of numbers:\n",
        "n=int(input(\"enter no\"))\n",
        "total=0\n",
        "for i in range(1,n+1):\n",
        "  total+=i\n",
        "print(total)"
      ],
      "metadata": {
        "id": "ohTpUhCKlRKp"
      },
      "execution_count": null,
      "outputs": []
    },
    {
      "cell_type": "code",
      "source": [
        "#Lec 64:\n",
        "total = 0\n",
        "x=int(input(\"enter no\"))\n",
        "for i in range (0,len(x)):\n",
        "  total+=int(num[i])\n",
        "print(total)"
      ],
      "metadata": {
        "id": "QVP-ES-yl5SR"
      },
      "execution_count": null,
      "outputs": []
    },
    {
      "cell_type": "code",
      "source": [
        "#Lec 65:\n",
        "nae = input(\"enter name\")\n",
        "tem=\"\"\n",
        "for i range(0,len(name)):\n",
        "  if name [i] not in temp:\n",
        "    print(f\"{name[i]}:name.count(name[i])}\")\n",
        "    temp+=name[i]\n",
        "    "
      ],
      "metadata": {
        "id": "FUvDsNKhmZXT"
      },
      "execution_count": null,
      "outputs": []
    },
    {
      "cell_type": "code",
      "source": [
        "#Lec 68 Number guessing:\n",
        "winning_number=43\n",
        "guess=1\n",
        "number=int(input(\"guess a number between\"))\n",
        "game_over=False\n",
        "while not game_over:\n",
        "  if number==winning_number:\n",
        "    print(\"you win and you guessed thin number is{guess}times\")\n",
        "  else:\n",
        "    if number < winning_number:\n",
        "      print(\"too low\")\n",
        "      guess+=1\n",
        "      number = int(input(\"guess again:\"))\n",
        "    else:\n",
        "      print(\"too high\")\n",
        "      guess+=1\n",
        "      number = int(input(\"guess again:\"))"
      ],
      "metadata": {
        "id": "SeadviTgnHom"
      },
      "execution_count": null,
      "outputs": []
    },
    {
      "cell_type": "code",
      "source": [
        "#Lec 69 dry principal of coding:"
      ],
      "metadata": {
        "id": "PGtVkknwyM_h"
      },
      "execution_count": null,
      "outputs": []
    },
    {
      "cell_type": "code",
      "source": [
        "#Lec 70 step argument:\n",
        "for i in range(1,11,2):\n",
        "  print(i)\n",
        "for i in range(10,0,-1):\n",
        "  print(i)"
      ],
      "metadata": {
        "id": "YyrzP4_Jyr21"
      },
      "execution_count": null,
      "outputs": []
    },
    {
      "cell_type": "code",
      "source": [
        "#Lec 71 for loop & string in python:\n",
        "name=\"harshit\"\n",
        "for i in name:\n",
        "  print(i)\n",
        "num=input(\"enter a number:\")\n",
        "total=0\n",
        "for i in num:\n",
        "  total+=int(i)\n",
        "print(total)"
      ],
      "metadata": {
        "id": "vAwv3BRNzlhE"
      },
      "execution_count": null,
      "outputs": []
    },
    {
      "cell_type": "code",
      "source": [
        "#Lec 73:\n",
        "#function intro\n",
        "def add_two(num1,num2):\n",
        "  return num1,num2\n",
        "first_name = input(\"type first name\")\n",
        "last_name = input(\"type last name\")\n",
        "print(add_two(first_name,last_name))"
      ],
      "metadata": {
        "id": "TE71wPVI0vMg"
      },
      "execution_count": null,
      "outputs": []
    },
    {
      "cell_type": "code",
      "source": [
        "#Lec 74: return VS print\n",
        "def add_three(a,b,c):\n",
        "  print(a+b+c)\n",
        "add_three(5,5,5)"
      ],
      "metadata": {
        "id": "iOxyGf1n2Itw"
      },
      "execution_count": null,
      "outputs": []
    },
    {
      "cell_type": "code",
      "source": [
        "def odd_three(a,b,c):\n",
        "  return a+b+c\n",
        "print(odd_three(5,4,4))"
      ],
      "metadata": {
        "colab": {
          "base_uri": "https://localhost:8080/"
        },
        "id": "nOXPGX2e2i4x",
        "outputId": "6cca8bfa-9172-48b2-d8f9-a5916896d87e"
      },
      "execution_count": null,
      "outputs": [
        {
          "output_type": "stream",
          "name": "stdout",
          "text": [
            "13\n"
          ]
        }
      ]
    },
    {
      "cell_type": "code",
      "source": [
        "#Lec 77:\n",
        "def greater(a,b):\n",
        "  if a>b:\n",
        "    return a\n",
        "  else:\n",
        "    return b\n",
        "num1=int(input(\"enter first no\"))\n",
        "num2=int(input(\"enter second no\"))\n",
        "print(f\"{bigger} is greater\")"
      ],
      "metadata": {
        "id": "-5Xzz1193TRb"
      },
      "execution_count": null,
      "outputs": []
    },
    {
      "cell_type": "code",
      "source": [
        "#Lec 78:\n",
        "def greatest(a,b,c):\n",
        "  if a>b:\n",
        "    return a\n",
        "  elif b>c and b>a:\n",
        "    return b\n",
        "  else:\n",
        "    return c\n",
        "print(greatest(10,20,30))"
      ],
      "metadata": {
        "id": "bSCzHedm3-07"
      },
      "execution_count": null,
      "outputs": []
    },
    {
      "cell_type": "code",
      "source": [
        "#Lec 79 :Function inside function:\n",
        "def new_greatest(a,b,c):\n",
        "  bigger=greater(a,b)\n",
        "  return greater(bigger,c)\n",
        "print(new_greatest(10,20,30))"
      ],
      "metadata": {
        "id": "lwRamaLd4nhY"
      },
      "execution_count": null,
      "outputs": []
    },
    {
      "cell_type": "code",
      "source": [
        "#Lec 81 is palindrom:\n",
        "def is_palindrom(word):\n",
        "  return word==word[::-1]\n",
        "print(is_palindrom(\"naman\"))\n",
        "print(is_palindrom(\"horse\"))"
      ],
      "metadata": {
        "colab": {
          "base_uri": "https://localhost:8080/"
        },
        "id": "zy_FLcJu5bHB",
        "outputId": "de6b1508-a854-450b-aa5d-2dd37ce653c8"
      },
      "execution_count": null,
      "outputs": [
        {
          "output_type": "stream",
          "name": "stdout",
          "text": [
            "True\n",
            "False\n"
          ]
        }
      ]
    },
    {
      "cell_type": "code",
      "source": [
        "#Lec 84 fibonacci series:\n",
        "def fibonacci_seq(n):\n",
        "  a=0\n",
        "  b=1\n",
        "  if n==1:\n",
        "    print(a)\n",
        "  elif n==2:\n",
        "    print(a,b)\n",
        "  else:\n",
        "    print(a,b,end=\"\")\n",
        "  for i in range(n-2):\n",
        "      c=a+b\n",
        "      a=b\n",
        "      b=c\n",
        "      print(b,end=\"\")"
      ],
      "metadata": {
        "id": "Ewm6xcqt7TPK"
      },
      "execution_count": null,
      "outputs": []
    },
    {
      "cell_type": "code",
      "source": [
        "#Lec 86 local variable:\n",
        "def func():\n",
        "  x=7\n",
        "  return x\n",
        "print(func())"
      ],
      "metadata": {
        "colab": {
          "base_uri": "https://localhost:8080/"
        },
        "id": "Qs11_PWf9znX",
        "outputId": "937c6f44-9772-4447-afa6-e5ec2fab45c9"
      },
      "execution_count": null,
      "outputs": [
        {
          "output_type": "stream",
          "name": "stdout",
          "text": [
            "7\n"
          ]
        }
      ]
    },
    {
      "cell_type": "code",
      "source": [
        "#global variable:\n",
        "def func():\n",
        "  global x\n",
        "  x=7\n",
        "  return x\n",
        "print(x)\n",
        "print(func())\n",
        "print(x)"
      ],
      "metadata": {
        "id": "PR2hOf29-SIZ"
      },
      "execution_count": null,
      "outputs": []
    },
    {
      "cell_type": "code",
      "source": [
        "# Lec 87 extend:\n",
        "fruits1=[\"mango\",\"orange\"]\n",
        "fruits2=[\"grapes\",\"apple\"]\n",
        "fruits1.extend(fruits2)\n",
        "print(fruits1)\n",
        "print(fruits2)"
      ],
      "metadata": {
        "colab": {
          "base_uri": "https://localhost:8080/"
        },
        "id": "mp4ajAhWAPb_",
        "outputId": "d6e66e3f-14d0-423f-baa1-f4e3876bbe4d"
      },
      "execution_count": null,
      "outputs": [
        {
          "output_type": "stream",
          "name": "stdout",
          "text": [
            "['mango', 'orange', 'grapes', 'apple']\n",
            "['grapes', 'apple']\n"
          ]
        }
      ]
    },
    {
      "cell_type": "code",
      "source": [
        "# Lec 88 remove\n",
        "fruits=[\"orange\",\"apple\"]\n",
        "fruits.remove(\"apple\")\n",
        "print(fruits)"
      ],
      "metadata": {
        "colab": {
          "base_uri": "https://localhost:8080/"
        },
        "id": "NvaE1JKsBKqc",
        "outputId": "f88f90cd-f42b-4a99-c401-746796445556"
      },
      "execution_count": null,
      "outputs": [
        {
          "output_type": "stream",
          "name": "stdout",
          "text": [
            "['orange']\n"
          ]
        }
      ]
    },
    {
      "cell_type": "code",
      "source": [
        "# Lec 89:\n",
        "fruits=[\"orange\",\"kiwi\"]\n",
        "if 'mango' is fruits:\n",
        "  print(\"present\")\n",
        "else:\n",
        "  print(\"not present\")"
      ],
      "metadata": {
        "id": "LDd4epmVBwtG"
      },
      "execution_count": null,
      "outputs": []
    },
    {
      "cell_type": "code",
      "source": [
        "#Lec 92:\n",
        "num=[3,2,8,10]\n",
        "num_copy = number\n",
        "print(num)"
      ],
      "metadata": {
        "colab": {
          "base_uri": "https://localhost:8080/"
        },
        "id": "EGqro6YUCqxk",
        "outputId": "31415342-11fe-41f9-a202-c72e0f38584f"
      },
      "execution_count": null,
      "outputs": [
        {
          "output_type": "stream",
          "name": "stdout",
          "text": [
            "[3, 2, 8, 10]\n"
          ]
        }
      ]
    },
    {
      "cell_type": "code",
      "source": [
        "#Lec 94:\n",
        "l=[\"word1\",\"word2\",\"word3\"]\n",
        "l.append(\"word4\")\n",
        "print(l)"
      ],
      "metadata": {
        "colab": {
          "base_uri": "https://localhost:8080/"
        },
        "id": "Zp80sariDBjh",
        "outputId": "8ee9d829-4d19-4144-cae8-78723f4788d5"
      },
      "execution_count": null,
      "outputs": [
        {
          "output_type": "stream",
          "name": "stdout",
          "text": [
            "['word1', 'word2', 'word3', 'word4']\n"
          ]
        }
      ]
    },
    {
      "cell_type": "code",
      "source": [
        "#Lec 96 :\n",
        "matrix = [1,2,3],[4,5,6],[7,8]\n",
        "s=\"string\"\n",
        "print(type(s))\n",
        "print(type(matrix))"
      ],
      "metadata": {
        "colab": {
          "base_uri": "https://localhost:8080/"
        },
        "id": "6qPiRWM6D55I",
        "outputId": "4a20dfd4-f46c-4220-9970-fc9689c3dc3d"
      },
      "execution_count": null,
      "outputs": [
        {
          "output_type": "stream",
          "name": "stdout",
          "text": [
            "<class 'str'>\n",
            "<class 'tuple'>\n"
          ]
        }
      ]
    },
    {
      "cell_type": "code",
      "source": [
        "#Lec 100:\n",
        "def reverse_list(l):\n",
        "  r_list=[]\n",
        "  for i in range(len(l)):\n",
        "    popped_item=l.pop()\n",
        "    r_list.append(popped_item)\n",
        "  return r_list"
      ],
      "metadata": {
        "id": "buJWYLUvElZ_"
      },
      "execution_count": null,
      "outputs": []
    },
    {
      "cell_type": "code",
      "source": [
        "#Lec 108 min and max:\n",
        "num=[6,8,9]\n",
        "def greatest_diff(l):\n",
        "  return max(l) - min(l)\n",
        "print(greatest_diff(num))"
      ],
      "metadata": {
        "colab": {
          "base_uri": "https://localhost:8080/"
        },
        "id": "Z70KLowKFgaJ",
        "outputId": "0ed3c3c1-ac57-42a5-9963-75049837c044"
      },
      "execution_count": null,
      "outputs": [
        {
          "output_type": "stream",
          "name": "stdout",
          "text": [
            "3\n"
          ]
        }
      ]
    },
    {
      "cell_type": "code",
      "source": [
        "#Lec 110:\n",
        "def sublist_counter(l):\n",
        "  count=0\n",
        "  for i in l:\n",
        "    if type(i)==list:\n",
        "      count+=1\n",
        "  return count\n",
        "\n",
        "mixed = [1,2,3, [1,2]]\n",
        "print(sublist_counter(mixed))"
      ],
      "metadata": {
        "colab": {
          "base_uri": "https://localhost:8080/"
        },
        "id": "--fiOQDCEldb",
        "outputId": "3f4ad824-f8ce-4f05-950e-24b9b1576e12"
      },
      "execution_count": null,
      "outputs": [
        {
          "output_type": "stream",
          "name": "stdout",
          "text": [
            "1\n"
          ]
        }
      ]
    },
    {
      "cell_type": "code",
      "source": [
        "#Lec 122:\n",
        "user={'name':'harsit','age':34,'age':67}\n",
        "print(user)"
      ],
      "metadata": {
        "colab": {
          "base_uri": "https://localhost:8080/"
        },
        "id": "wqhjWlRQHAdq",
        "outputId": "c97eff3a-f61f-45ad-a480-f9ede70064ff"
      },
      "execution_count": null,
      "outputs": [
        {
          "output_type": "stream",
          "name": "stdout",
          "text": [
            "{'name': 'harsit', 'age': 67}\n"
          ]
        }
      ]
    }
  ]
}